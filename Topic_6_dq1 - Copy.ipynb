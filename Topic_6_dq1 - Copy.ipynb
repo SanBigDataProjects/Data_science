{
 "cells": [
  {
   "cell_type": "code",
   "execution_count": 3,
   "id": "513c8a66-62e4-4e17-a419-3758cd293d13",
   "metadata": {},
   "outputs": [
    {
     "name": "stdout",
     "output_type": "stream",
     "text": [
      "Paired t-test: t-statistic=-1.6747066607202856, p-value=0.10474436717879002\n",
      "            df      sum_sq    mean_sq          F    PR(>F)\n",
      "group      2.0   87.837430  43.918715  10.025701  0.000121\n",
      "Residual  87.0  381.113324   4.380613        NaN       NaN\n",
      "Levene’s test: F-statistic=15.674394530463516, p-value=0.00020797661021398258\n"
     ]
    }
   ],
   "source": [
    "import numpy as np\n",
    "import pandas as pd\n",
    "import scipy.stats as stats\n",
    "from statsmodels.stats.anova import anova_lm\n",
    "from statsmodels.formula.api import ols\n",
    "\n",
    "# Paired t-test example\n",
    "data_before = np.random.normal(10, 2, 30)\n",
    "data_after = np.random.normal(11, 2, 30)\n",
    "t_stat, p_value = stats.ttest_rel(data_before, data_after)\n",
    "print(f'Paired t-test: t-statistic={t_stat}, p-value={p_value}')\n",
    "\n",
    "# ANOVA example\n",
    "df = pd.DataFrame({\n",
    "    'value': np.concatenate([np.random.normal(10, 2, 30), \n",
    "                             np.random.normal(12, 2, 30), \n",
    "                             np.random.normal(11, 2, 30)]),\n",
    "    'group': ['A']*30 + ['B']*30 + ['C']*30\n",
    "})\n",
    "model = ols('value ~ group', data=df).fit()\n",
    "anova_results = anova_lm(model)\n",
    "print(anova_results)\n",
    "\n",
    "# Variance comparison example\n",
    "data1 = np.random.normal(10, 2, 30)\n",
    "data2 = np.random.normal(10, 3, 30)\n",
    "f_stat, p_value = stats.levene(data1, data2)\n",
    "print(f'Levene’s test: F-statistic={f_stat}, p-value={p_value}')\n"
   ]
  },
  {
   "cell_type": "code",
   "execution_count": null,
   "id": "8ff82226-9787-4592-8e4d-6aa811dc0691",
   "metadata": {},
   "outputs": [],
   "source": []
  },
  {
   "cell_type": "markdown",
   "id": "38436dda-8cea-4eea-bc39-df900223ef5e",
   "metadata": {},
   "source": [
    "PLease find the video here:https://www.loom.com/share/f325bef0b0b244818532fb3489005167?sid=55db6335-ef13-4dd9-b8c2-f494ca9ccc19\n"
   ]
  },
  {
   "cell_type": "code",
   "execution_count": null,
   "id": "485cd7bb-3885-422f-972a-6aa7600dd1c0",
   "metadata": {},
   "outputs": [],
   "source": [
    "\n"
   ]
  },
  {
   "cell_type": "code",
   "execution_count": null,
   "id": "bd6109d8-9c6b-4213-912a-225de8286359",
   "metadata": {},
   "outputs": [],
   "source": []
  }
 ],
 "metadata": {
  "kernelspec": {
   "display_name": "Python 3 (ipykernel)",
   "language": "python",
   "name": "python3"
  },
  "language_info": {
   "codemirror_mode": {
    "name": "ipython",
    "version": 3
   },
   "file_extension": ".py",
   "mimetype": "text/x-python",
   "name": "python",
   "nbconvert_exporter": "python",
   "pygments_lexer": "ipython3",
   "version": "3.12.2"
  }
 },
 "nbformat": 4,
 "nbformat_minor": 5
}
