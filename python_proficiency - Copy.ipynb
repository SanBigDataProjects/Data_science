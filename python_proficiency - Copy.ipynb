{
 "cells": [
  {
   "cell_type": "code",
   "execution_count": 9,
   "id": "5a8cdac4-cda7-4635-af2e-2c723a1b965f",
   "metadata": {},
   "outputs": [],
   "source": [
    "## Task 1: Synthetic Dataset Generation\n",
    "##This task involves generating a synthetic dataset to simulate the study of the effects of different exercise regimens on blood pressure. We will use NumPy for random number generation and create a dataset of 100 participants. Each participant is assigned to one of three exercise groups (jogging, weightlifting, or yoga), and their blood pressure is measured before and after a 6-week exercise program.\n"
   ]
  },
  {
   "cell_type": "code",
   "execution_count": 20,
   "id": "27977fb3-e7f1-4064-a2b5-cded18bff3dd",
   "metadata": {},
   "outputs": [
    {
     "name": "stdout",
     "output_type": "stream",
     "text": [
      "               Exercise_Group  Pre_Exercise_BP  Post_Exercise_BP\n",
      "Participant_ID                                                  \n",
      "1                        yoga              128               117\n",
      "2                     jogging              133               128\n",
      "3                        yoga              133               119\n",
      "4                        yoga              131               117\n",
      "5                     jogging              116               101\n",
      "...                       ...              ...               ...\n",
      "96                    jogging              128               122\n",
      "97                    jogging              135               120\n",
      "98                       yoga              127               108\n",
      "99                    jogging              140               134\n",
      "100                   jogging              158               144\n",
      "\n",
      "[100 rows x 3 columns]\n",
      "Synthetic dataset 'exercise_data.csv' created successfully.\n"
     ]
    }
   ],
   "source": [
    "import numpy as np\n",
    "import pandas as pd\n",
    "\n",
    "# Set random seed for reproducibility\n",
    "np.random.seed(42)\n",
    "\n",
    "# Number of participants\n",
    "num_participants = 100\n",
    "\n",
    "# Generate participant IDs\n",
    "participant_ids = np.arange(1, num_participants + 1)\n",
    "\n",
    "# Define exercise groups\n",
    "exercise_groups_list = ['jogging', 'weightlifting', 'yoga']\n",
    "\n",
    "# Randomly assign participants to exercise groups\n",
    "exercise_groups = np.random.choice(exercise_groups_list, size=num_participants)\n",
    "\n",
    "# Generate pre-exercise systolic blood pressure values\n",
    "pre_exercise_bp = np.random.normal(120, 15, num_participants).astype(int)\n",
    "\n",
    "# Initialize a list to store post-exercise systolic blood pressure values\n",
    "post_exercise_bp = []\n",
    "\n",
    "# Calculate post-exercise systolic blood pressure for each participant\n",
    "for i, group in enumerate(exercise_groups):\n",
    "    if group == 'jogging':\n",
    "        reduction = np.random.randint(5, 16)\n",
    "    elif group == 'weightlifting':\n",
    "        reduction = np.random.randint(0, 11)\n",
    "    elif group == 'yoga':\n",
    "        reduction = np.random.randint(10, 21)\n",
    "    \n",
    "    # Calculate post-exercise blood pressure and add it to the list\n",
    "    post_exercise_bp.append(pre_exercise_bp[i] - reduction)\n",
    "\n",
    "# Create a DataFrame\n",
    "data = {\n",
    "    'Participant_ID': participant_ids,\n",
    "    'Exercise_Group': exercise_groups,\n",
    "    'Pre_Exercise_BP': pre_exercise_bp,\n",
    "    'Post_Exercise_BP': post_exercise_bp\n",
    "}\n",
    "df = pd.DataFrame(data)\n",
    "\n",
    "# Set Participant_ID as the index\n",
    "df.set_index('Participant_ID', inplace=True)\n",
    "\n",
    "# Print the DataFrame\n",
    "print(df)\n",
    "\n",
    "# Save to CSV\n",
    "df.to_csv('exercise_data.csv')\n",
    "\n",
    "print(\"Synthetic dataset 'exercise_data.csv' created successfully.\")\n"
   ]
  },
  {
   "cell_type": "code",
   "execution_count": null,
   "id": "49f912a5-b0d3-4ec2-9353-1c18826b2061",
   "metadata": {},
   "outputs": [],
   "source": [
    "## Task 2: Highest Pre-Exercise Blood Pressure by Group\n",
    "##This task involves identifying the participant with the highest pre-exercise systolic blood pressure in each exercise group. We will use pandas to read the CSV file and perform the necessary grouping and aggregation.\n"
   ]
  },
  {
   "cell_type": "code",
   "execution_count": 10,
   "id": "9604be3c-10ca-4579-bf56-14fafe599af6",
   "metadata": {},
   "outputs": [
    {
     "name": "stdout",
     "output_type": "stream",
     "text": [
      "Participants with the highest pre-exercise systolic blood pressure in each exercise group:\n",
      "    Participant_ID Exercise_Group  Pre_Exercise_BP  Post_Exercise_BP\n",
      "20              21        jogging              170               158\n",
      "82              83  weightlifting              145               145\n",
      "55              56           yoga              141               126\n"
     ]
    }
   ],
   "source": [
    "# Read the dataset\n",
    "df = pd.read_csv('exercise_data.csv')\n",
    "\n",
    "# Find the participant with the highest pre-exercise blood pressure in each exercise group\n",
    "highest_pre_bp = df.loc[df.groupby('Exercise_Group')['Pre_Exercise_BP'].idxmax()]\n",
    "\n",
    "print(\"Participants with the highest pre-exercise systolic blood pressure in each exercise group:\")\n",
    "print(highest_pre_bp)\n"
   ]
  },
  {
   "cell_type": "code",
   "execution_count": null,
   "id": "99e4ff03-d0ba-4204-b1a8-109bc805c89f",
   "metadata": {},
   "outputs": [],
   "source": [
    "## Task 3: Extract the 5 Participants with Highest Blood Pressure\n",
    "##This task involves sorting the participants based on their pre-exercise blood pressure and displaying the full records of the top 5 participants.\n"
   ]
  },
  {
   "cell_type": "code",
   "execution_count": 11,
   "id": "3415602c-aee0-4396-9e1b-9c928a9e6674",
   "metadata": {},
   "outputs": [
    {
     "name": "stdout",
     "output_type": "stream",
     "text": [
      "Top 5 participants with the highest pre-exercise systolic blood pressure:\n",
      "    Participant_ID Exercise_Group  Pre_Exercise_BP  Post_Exercise_BP\n",
      "20              21        jogging              170               158\n",
      "99             100        jogging              158               144\n",
      "82              83  weightlifting              145               145\n",
      "18              19  weightlifting              142               132\n",
      "55              56           yoga              141               126\n"
     ]
    }
   ],
   "source": [
    "# Sort the participants based on pre-exercise blood pressure\n",
    "sorted_df = df.sort_values(by='Pre_Exercise_BP', ascending=False)\n",
    "\n",
    "# Extract the top 5 participants with the highest pre-exercise blood pressure\n",
    "top_5_pre_bp = sorted_df.head(5)\n",
    "\n",
    "print(\"Top 5 participants with the highest pre-exercise systolic blood pressure:\")\n",
    "print(top_5_pre_bp)\n"
   ]
  },
  {
   "cell_type": "code",
   "execution_count": null,
   "id": "2d007e84-5b2e-4a33-ab33-e976bf318f34",
   "metadata": {},
   "outputs": [],
   "source": [
    "## Task 4: Monthly Blood Pressure Changes\n",
    "##Assuming blood pressure measurements were taken monthly, this task computes the average change in blood pressure for each exercise group. Note that the original study duration is 6 weeks, which we approximate as 1.5 months.\n"
   ]
  },
  {
   "cell_type": "code",
   "execution_count": 13,
   "id": "fd5c179d-0882-4456-a3a0-ea94d1f67e2f",
   "metadata": {
    "scrolled": true
   },
   "outputs": [
    {
     "name": "stdout",
     "output_type": "stream",
     "text": [
      "Average monthly change in blood pressure for each exercise group:\n",
      "Exercise_Group\n",
      "jogging          6.343434\n",
      "weightlifting    2.555556\n",
      "yoga             9.440860\n",
      "Name: BP_Change, dtype: float64\n"
     ]
    }
   ],
   "source": [
    "# Calculate the change in blood pressure\n",
    "df['BP_Change'] = df['Pre_Exercise_BP'] - df['Post_Exercise_BP']\n",
    "\n",
    "# Group by exercise group and calculate the average change\n",
    "monthly_change = df.groupby('Exercise_Group')['BP_Change'].mean() / 1.5  # Assuming 1.5 months\n",
    "\n",
    "print(\"Average monthly change in blood pressure for each exercise group:\")\n",
    "print(monthly_change)\n"
   ]
  },
  {
   "cell_type": "code",
   "execution_count": 19,
   "id": "200701c0-e098-4501-84a7-67e97d68fce4",
   "metadata": {},
   "outputs": [],
   "source": [
    "## Task 5: Compare Pre- and Post-Exercise Blood Pressure for Top 5\n",
    "##This task involves comparing the pre- and post-exercise blood pressure for the top 5 participants identified in Task 3.\n"
   ]
  },
  {
   "cell_type": "code",
   "execution_count": 14,
   "id": "f24deea3-eb4b-4aa4-82d7-41ff26759405",
   "metadata": {},
   "outputs": [
    {
     "name": "stdout",
     "output_type": "stream",
     "text": [
      "Comparison of pre- and post-exercise blood pressure for the top 5 participants:\n",
      "    Pre_Exercise_BP  Post_Exercise_BP  BP_Difference\n",
      "20              170               158             12\n",
      "99              158               144             14\n",
      "82              145               145              0\n",
      "18              142               132             10\n",
      "55              141               126             15\n"
     ]
    }
   ],
   "source": [
    "# Extract the post-exercise blood pressure for the top 5 participants\n",
    "top_5_comparison = df.loc[top_5_pre_bp.index, ['Pre_Exercise_BP', 'Post_Exercise_BP']]\n",
    "top_5_comparison['BP_Difference'] = top_5_comparison['Pre_Exercise_BP'] - top_5_comparison['Post_Exercise_BP']\n",
    "\n",
    "print(\"Comparison of pre- and post-exercise blood pressure for the top 5 participants:\")\n",
    "print(top_5_comparison)\n"
   ]
  },
  {
   "cell_type": "code",
   "execution_count": 18,
   "id": "af9d0194-eab5-43d0-a7dc-7c5404878884",
   "metadata": {},
   "outputs": [],
   "source": [
    "## Task 6: Total Blood Pressure Reduction for Each Exercise Group\n",
    "##This task computes the measures of central tendency (mean, mode, standard deviation) for blood pressure reduction in each exercise group.\n"
   ]
  },
  {
   "cell_type": "code",
   "execution_count": 15,
   "id": "54af6fc9-85e6-4ae4-9070-676ea6565696",
   "metadata": {
    "scrolled": true
   },
   "outputs": [
    {
     "name": "stdout",
     "output_type": "stream",
     "text": [
      "Mean and standard deviation of blood pressure reduction for each exercise group:\n",
      "                     mean       std\n",
      "Exercise_Group                     \n",
      "jogging          9.515152  3.308334\n",
      "weightlifting    3.833333  2.932576\n",
      "yoga            14.161290  3.001075\n",
      "Mode of blood pressure reduction for each exercise group:\n",
      "Exercise_Group\n",
      "jogging          [5, 6, 7, 11, 12, 15]\n",
      "weightlifting                      [0]\n",
      "yoga                              [12]\n",
      "Name: BP_Change, dtype: object\n"
     ]
    }
   ],
   "source": [
    "# Calculate the mean and standard deviation of blood pressure reduction for each exercise group\n",
    "total_reduction = df.groupby('Exercise_Group')['BP_Change'].agg(['mean', 'std'])\n",
    "\n",
    "print(\"Mean and standard deviation of blood pressure reduction for each exercise group:\")\n",
    "print(total_reduction)\n",
    "\n",
    "# Calculate the mode separately due to its handling of multiple modes\n",
    "modes = df.groupby('Exercise_Group')['BP_Change'].apply(lambda x: x.mode().values)\n",
    "\n",
    "print(\"Mode of blood pressure reduction for each exercise group:\")\n",
    "print(modes)\n",
    "\n"
   ]
  },
  {
   "cell_type": "code",
   "execution_count": 17,
   "id": "edf56f84-5494-4b16-a0cd-bd53c71d172f",
   "metadata": {},
   "outputs": [],
   "source": [
    "# Explanation of Computational and Statistical Aspects\n",
    "\n",
    "# 1. Synthetic Dataset Generation:\n",
    "#    Computational Aspect: NumPy is used for random number generation and to create synthetic data.\n",
    "#    Systolic blood pressure values are normally distributed around 120 with a standard deviation of 15.\n",
    "#    Statistical Aspect: The reduction in blood pressure after exercise varies based on the exercise group, simulating realistic variations.\n",
    "\n",
    "# 2. Highest Pre-Exercise Blood Pressure by Group:\n",
    "#    Computational Aspect: Grouping and aggregation functions in pandas are used to identify the participants with the highest pre-exercise blood pressure in each group.\n",
    "#    Statistical Aspect: This helps in identifying outliers and comparing maximum values across different exercise groups.\n",
    "\n",
    "# 3. Extract the 5 Participants with Highest Blood Pressure:\n",
    "#    Computational Aspect: Sorting and slicing operations in pandas are used to extract the top 5 participants based on pre-exercise blood pressure.\n",
    "#    Statistical Aspect: This focuses on the participants with the highest initial blood pressure to analyze their data in more detail.\n",
    "\n",
    "# 4. Monthly Blood Pressure Changes:\n",
    "#    Computational Aspect: Assumes measurements were taken monthly and calculates the average change in blood pressure by dividing the total change by 1.5 (since 6 weeks is approximately 1.5 months).\n",
    "#    Statistical Aspect: Standardizes the blood pressure change over time for better comparison across groups.\n",
    "\n",
    "# 5. Compare Pre- and Post-Exercise Blood Pressure for Top 5:\n",
    "#    Computational Aspect: Compares the pre- and post-exercise blood pressure for the top 5 participants identified in Task 3.\n",
    "#    Statistical Aspect: Evaluates the effectiveness of the exercise regimen on those with the highest pre-exercise blood pressure.\n",
    "\n",
    "# 6. Total Blood Pressure Reduction for Each Exercise Group:\n",
    "#    Computational Aspect: Uses pandas' aggregation functions to compute measures of central tendency (mean, standard deviation) for blood pressure reduction in each exercise group.\n",
    "#    Statistical Aspect: The mode is calculated separately to handle cases where multiple modes may exist, providing a comprehensive view of blood pressure reduction."
   ]
  },
  {
   "cell_type": "code",
   "execution_count": null,
   "id": "7cd84f87-d04d-48ed-b390-b8ac1f5aaf32",
   "metadata": {},
   "outputs": [],
   "source": []
  }
 ],
 "metadata": {
  "kernelspec": {
   "display_name": "Python 3 (ipykernel)",
   "language": "python",
   "name": "python3"
  },
  "language_info": {
   "codemirror_mode": {
    "name": "ipython",
    "version": 3
   },
   "file_extension": ".py",
   "mimetype": "text/x-python",
   "name": "python",
   "nbconvert_exporter": "python",
   "pygments_lexer": "ipython3",
   "version": "3.12.2"
  }
 },
 "nbformat": 4,
 "nbformat_minor": 5
}
