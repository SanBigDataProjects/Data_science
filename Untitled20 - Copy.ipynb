{
 "cells": [
  {
   "cell_type": "markdown",
   "id": "aefa52c7-c2ba-4463-83b3-44f4f23d7ce9",
   "metadata": {},
   "source": [
    "Min-Max Normalization"
   ]
  },
  {
   "cell_type": "code",
   "execution_count": 1,
   "id": "1d6e708a-576b-449e-8d08-925127f92aef",
   "metadata": {},
   "outputs": [
    {
     "name": "stdout",
     "output_type": "stream",
     "text": [
      "Min-Max Normalized Data:\n",
      "   Income  Income_MinMax  Age  Age_MinMax\n",
      "0   30000       0.000000   25    0.000000\n",
      "1   50000       0.166667   35    0.333333\n",
      "2  100000       0.583333   45    0.666667\n",
      "3  150000       1.000000   55    1.000000\n"
     ]
    }
   ],
   "source": [
    "import pandas as pd\n",
    "\n",
    "# Sample data\n",
    "data = {'Income': [30000, 50000, 100000, 150000], 'Age': [25, 35, 45, 55]}\n",
    "df = pd.DataFrame(data)\n",
    "\n",
    "# Min-max normalization\n",
    "df['Income_MinMax'] = (df['Income'] - df['Income'].min()) / (df['Income'].max() - df['Income'].min())\n",
    "df['Age_MinMax'] = (df['Age'] - df['Age'].min()) / (df['Age'].max() - df['Age'].min())\n",
    "\n",
    "print(\"Min-Max Normalized Data:\")\n",
    "print(df[['Income', 'Income_MinMax', 'Age', 'Age_MinMax']])\n"
   ]
  },
  {
   "cell_type": "markdown",
   "id": "f0e0d13e-3045-4516-b58b-d05273395b28",
   "metadata": {},
   "source": [
    "Z-Score Normalization"
   ]
  },
  {
   "cell_type": "code",
   "execution_count": 2,
   "id": "697cc529-0141-4954-b33b-e50e0a05e769",
   "metadata": {},
   "outputs": [
    {
     "name": "stdout",
     "output_type": "stream",
     "text": [
      "\n",
      "Z-Score Normalized Data:\n",
      "   Income  Income_ZScore  Age  Age_ZScore\n",
      "0   30000      -0.976304   25   -1.161895\n",
      "1   50000      -0.604379   35   -0.387298\n",
      "2  100000       0.325435   45    0.387298\n",
      "3  150000       1.255248   55    1.161895\n"
     ]
    }
   ],
   "source": [
    "# Z-score normalization\n",
    "df['Income_ZScore'] = (df['Income'] - df['Income'].mean()) / df['Income'].std()\n",
    "df['Age_ZScore'] = (df['Age'] - df['Age'].mean()) / df['Age'].std()\n",
    "\n",
    "print(\"\\nZ-Score Normalized Data:\")\n",
    "print(df[['Income', 'Income_ZScore', 'Age', 'Age_ZScore']])\n"
   ]
  },
  {
   "cell_type": "code",
   "execution_count": null,
   "id": "a07d4d8f-838c-4f35-b1ef-dbcd633d0080",
   "metadata": {},
   "outputs": [],
   "source": []
  }
 ],
 "metadata": {
  "kernelspec": {
   "display_name": "Python 3 (ipykernel)",
   "language": "python",
   "name": "python3"
  },
  "language_info": {
   "codemirror_mode": {
    "name": "ipython",
    "version": 3
   },
   "file_extension": ".py",
   "mimetype": "text/x-python",
   "name": "python",
   "nbconvert_exporter": "python",
   "pygments_lexer": "ipython3",
   "version": "3.12.2"
  }
 },
 "nbformat": 4,
 "nbformat_minor": 5
}
