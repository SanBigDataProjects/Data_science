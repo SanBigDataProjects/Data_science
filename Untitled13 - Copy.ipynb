{
 "cells": [
  {
   "cell_type": "code",
   "execution_count": 1,
   "id": "b91b5c92-2997-43c6-b80e-88e3f46eb22f",
   "metadata": {},
   "outputs": [
    {
     "name": "stdout",
     "output_type": "stream",
     "text": [
      "Paired t-test: t-statistic=-2.3675248290754207, p-value=0.024793750776315848\n",
      "ANOVA: F-statistic=32.29157944695449, p-value=3.24168657987499e-11\n",
      "Levene's Test: statistic=1.013663416890096, p-value=0.3671322118182255\n",
      "Wilcoxon Signed-Rank Test: statistic=117.0, p-value=0.016431212425231934\n",
      "Kruskal-Wallis Test: statistic=39.042735042735046, p-value=3.3264255383919175e-09\n"
     ]
    }
   ],
   "source": [
    "import numpy as np\n",
    "import pandas as pd\n",
    "from scipy.stats import ttest_rel, f_oneway, levene, wilcoxon, kruskal\n",
    "\n",
    "# Paired t-test\n",
    "data1 = np.random.normal(5, 1, 30)\n",
    "data2 = np.random.normal(5.5, 1, 30)\n",
    "t_stat, p_value = ttest_rel(data1, data2)\n",
    "print(f\"Paired t-test: t-statistic={t_stat}, p-value={p_value}\")\n",
    "\n",
    "# ANOVA\n",
    "group1 = np.random.normal(5, 1, 30)\n",
    "group2 = np.random.normal(6, 1, 30)\n",
    "group3 = np.random.normal(7, 1, 30)\n",
    "f_stat, p_value = f_oneway(group1, group2, group3)\n",
    "print(f\"ANOVA: F-statistic={f_stat}, p-value={p_value}\")\n",
    "\n",
    "# Levene's Test\n",
    "stat, p_value = levene(group1, group2, group3)\n",
    "print(f\"Levene's Test: statistic={stat}, p-value={p_value}\")\n",
    "\n",
    "# Wilcoxon Signed-Rank Test\n",
    "w_stat, p_value = wilcoxon(data1, data2)\n",
    "print(f\"Wilcoxon Signed-Rank Test: statistic={w_stat}, p-value={p_value}\")\n",
    "\n",
    "# Kruskal-Wallis Test\n",
    "k_stat, p_value = kruskal(group1, group2, group3)\n",
    "print(f\"Kruskal-Wallis Test: statistic={k_stat}, p-value={p_value}\")\n"
   ]
  },
  {
   "cell_type": "code",
   "execution_count": null,
   "id": "651fe34b-5bf4-49fe-8b56-608f945d6d01",
   "metadata": {},
   "outputs": [],
   "source": []
  },
  {
   "cell_type": "code",
   "execution_count": null,
   "id": "ce98a9c6-590e-4aa1-be7c-1ff5f62f6010",
   "metadata": {},
   "outputs": [],
   "source": []
  }
 ],
 "metadata": {
  "kernelspec": {
   "display_name": "Python 3 (ipykernel)",
   "language": "python",
   "name": "python3"
  },
  "language_info": {
   "codemirror_mode": {
    "name": "ipython",
    "version": 3
   },
   "file_extension": ".py",
   "mimetype": "text/x-python",
   "name": "python",
   "nbconvert_exporter": "python",
   "pygments_lexer": "ipython3",
   "version": "3.12.2"
  }
 },
 "nbformat": 4,
 "nbformat_minor": 5
}
