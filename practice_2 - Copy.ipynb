{
 "cells": [
  {
   "cell_type": "code",
   "execution_count": 46,
   "id": "a6685c9e-3ccc-463a-a0c1-d9df077dcfa2",
   "metadata": {},
   "outputs": [],
   "source": [
    "#Create a dataset of 50 employee salaries in USD. Ensure the salaries range between $30,000 and $120,000."
   ]
  },
  {
   "cell_type": "code",
   "execution_count": 47,
   "id": "8cce0468-9ff6-41cf-9e84-509d27a6f6b6",
   "metadata": {},
   "outputs": [
    {
     "data": {
      "text/html": [
       "<div>\n",
       "<style scoped>\n",
       "    .dataframe tbody tr th:only-of-type {\n",
       "        vertical-align: middle;\n",
       "    }\n",
       "\n",
       "    .dataframe tbody tr th {\n",
       "        vertical-align: top;\n",
       "    }\n",
       "\n",
       "    .dataframe thead th {\n",
       "        text-align: right;\n",
       "    }\n",
       "</style>\n",
       "<table border=\"1\" class=\"dataframe\">\n",
       "  <thead>\n",
       "    <tr style=\"text-align: right;\">\n",
       "      <th></th>\n",
       "      <th>Salary</th>\n",
       "    </tr>\n",
       "  </thead>\n",
       "  <tbody>\n",
       "    <tr>\n",
       "      <th>0</th>\n",
       "      <td>113127</td>\n",
       "    </tr>\n",
       "    <tr>\n",
       "      <th>1</th>\n",
       "      <td>117968</td>\n",
       "    </tr>\n",
       "    <tr>\n",
       "      <th>2</th>\n",
       "      <td>93912</td>\n",
       "    </tr>\n",
       "    <tr>\n",
       "      <th>3</th>\n",
       "      <td>103565</td>\n",
       "    </tr>\n",
       "    <tr>\n",
       "      <th>4</th>\n",
       "      <td>45112</td>\n",
       "    </tr>\n",
       "  </tbody>\n",
       "</table>\n",
       "</div>"
      ],
      "text/plain": [
       "   Salary\n",
       "0  113127\n",
       "1  117968\n",
       "2   93912\n",
       "3  103565\n",
       "4   45112"
      ]
     },
     "execution_count": 47,
     "metadata": {},
     "output_type": "execute_result"
    }
   ],
   "source": [
    "import pandas as pd\n",
    "import numpy as np\n",
    "import matplotlib.pyplot as plt\n",
    "from scipy import stats\n",
    "\n",
    "dataset= np.random.randint(30000 , 120000 , size=50)\n",
    "df=pd.DataFrame(dataset,columns=['Salary'])\n",
    "df.head()"
   ]
  },
  {
   "cell_type": "code",
   "execution_count": 48,
   "id": "35c106b6-0d29-4c9d-8774-d81d931f30f1",
   "metadata": {},
   "outputs": [
    {
     "data": {
      "text/plain": [
       "81021.82"
      ]
     },
     "execution_count": 48,
     "metadata": {},
     "output_type": "execute_result"
    }
   ],
   "source": [
    "#Calculate and print the mean salary.\n",
    "mean=np.mean(df['Salary'])\n",
    "mean"
   ]
  },
  {
   "cell_type": "code",
   "execution_count": 49,
   "id": "9f541ac6-0212-4aac-809e-88fac16a3648",
   "metadata": {},
   "outputs": [
    {
     "data": {
      "text/plain": [
       "83906.0"
      ]
     },
     "execution_count": 49,
     "metadata": {},
     "output_type": "execute_result"
    }
   ],
   "source": [
    "#Calculate and print the median salary.\n",
    "median= np.median(df['Salary'])\n",
    "median"
   ]
  },
  {
   "cell_type": "code",
   "execution_count": 50,
   "id": "c0fb8954-6deb-4bd9-9620-b8f0fb5a8ecd",
   "metadata": {},
   "outputs": [
    {
     "data": {
      "text/plain": [
       "ModeResult(mode=34799, count=1)"
      ]
     },
     "execution_count": 50,
     "metadata": {},
     "output_type": "execute_result"
    }
   ],
   "source": [
    "mode= stats.mode(df['Salary'])\n",
    "mode"
   ]
  },
  {
   "cell_type": "code",
   "execution_count": 51,
   "id": "623e0975-ae87-43a9-81f6-0e0bb42eb64c",
   "metadata": {},
   "outputs": [
    {
     "data": {
      "text/plain": [
       "83169"
      ]
     },
     "execution_count": 51,
     "metadata": {},
     "output_type": "execute_result"
    }
   ],
   "source": [
    "# calculate and print the range of the salaries\n",
    "range=max(df['Salary'])-min(df['Salary'])\n",
    "range"
   ]
  },
  {
   "cell_type": "code",
   "execution_count": 52,
   "id": "7d55336c-6c92-49a3-b2be-aa2bd5c08eb8",
   "metadata": {},
   "outputs": [
    {
     "data": {
      "text/plain": [
       "[1030742582.8323996,\n",
       " 1365020216.5923996,\n",
       " 166156740.4323998,\n",
       " 508194964.5123997,\n",
       " 1289515172.4324005,\n",
       " 390213404.59240025,\n",
       " 19261740.99240006,\n",
       " 5778350.592400034,\n",
       " 1134599729.7924004,\n",
       " 1253597582.1923995,\n",
       " 206243490.9923998,\n",
       " 3538838.1923999735,\n",
       " 497148182.1124003,\n",
       " 471418760.3523997,\n",
       " 121158011.55239984,\n",
       " 23796640.112399932,\n",
       " 1055936723.2323996,\n",
       " 304648399.4723998,\n",
       " 1728798272.5924006,\n",
       " 954759324.6723995,\n",
       " 852358535.2323996,\n",
       " 157598396.59240016,\n",
       " 40167962.35240009,\n",
       " 1574408756.5924006,\n",
       " 253388454.51239976,\n",
       " 797148591.7924004,\n",
       " 1335038597.7123995,\n",
       " 2136549088.7524006,\n",
       " 15110168.352399945,\n",
       " 1364576898.4323995,\n",
       " 1288940679.3124006,\n",
       " 300501.31239999237,\n",
       " 161650373.07239982,\n",
       " 239605013.47239977,\n",
       " 649323150.5124004,\n",
       " 1257140700.1923995,\n",
       " 8443789.87240004,\n",
       " 89400428.83239987,\n",
       " 433521536.5923997,\n",
       " 926826176.1924005,\n",
       " 1126664272.2724004,\n",
       " 1088130293.7124004,\n",
       " 1435635.3123999832,\n",
       " 245073389.2324002,\n",
       " 1522780480.7524006,\n",
       " 449066109.7923997,\n",
       " 42926345.312400095,\n",
       " 334567265.79239976,\n",
       " 187065252.7523998,\n",
       " 920019304.5124004]"
      ]
     },
     "execution_count": 52,
     "metadata": {},
     "output_type": "execute_result"
    }
   ],
   "source": [
    "#Calculate and print the variance of the salaries.\n",
    "std= [(x-mean)**2 for x in df['Salary']]\n",
    "std"
   ]
  },
  {
   "cell_type": "code",
   "execution_count": 53,
   "id": "12d773f5-4db0-4f15-9d74-2b31b078f363",
   "metadata": {},
   "outputs": [
    {
     "data": {
      "text/plain": [
       "653668434.232245"
      ]
     },
     "execution_count": 53,
     "metadata": {},
     "output_type": "execute_result"
    }
   ],
   "source": [
    "variance= np.sum(std)/(len(df)-1)\n",
    "variance"
   ]
  },
  {
   "cell_type": "code",
   "execution_count": 54,
   "id": "ecd8629b-6b10-4528-8bc2-f9ca897ce820",
   "metadata": {},
   "outputs": [
    {
     "data": {
      "text/plain": [
       "25566.940259488325"
      ]
     },
     "execution_count": 54,
     "metadata": {},
     "output_type": "execute_result"
    }
   ],
   "source": [
    "std_deviation= np.sqrt(variance)\n",
    "std_deviation"
   ]
  },
  {
   "cell_type": "code",
   "execution_count": 55,
   "id": "b07cdf6e-28fd-4ffe-b7d0-279073ad87e2",
   "metadata": {},
   "outputs": [
    {
     "data": {
      "text/plain": [
       "99996.83099271255"
      ]
     },
     "execution_count": 55,
     "metadata": {},
     "output_type": "execute_result"
    }
   ],
   "source": [
    "#Calculate the probability of an employee earning more than $100,000.\n",
    "z_score_100000= 100000-mean/std_deviation\n",
    "z_score_100000"
   ]
  },
  {
   "cell_type": "code",
   "execution_count": 56,
   "id": "d9ced7a6-4d5b-46ca-8e98-e7f3a07cd9d6",
   "metadata": {},
   "outputs": [
    {
     "data": {
      "text/plain": [
       "0.0"
      ]
     },
     "execution_count": 56,
     "metadata": {},
     "output_type": "execute_result"
    }
   ],
   "source": [
    "probability=1 - stats.norm.cdf(z_score_100000)\n",
    "probability"
   ]
  },
  {
   "cell_type": "code",
   "execution_count": 57,
   "id": "1f4de964-93c0-4f5d-aa26-fdecb9c8af15",
   "metadata": {},
   "outputs": [
    {
     "data": {
      "text/plain": [
       "44996.83099271255"
      ]
     },
     "execution_count": 57,
     "metadata": {},
     "output_type": "execute_result"
    }
   ],
   "source": [
    "#Calculate the z-score for a salary of $45,000.\n",
    "z_score_45000= 45000-mean/std_deviation\n",
    "z_score_45000"
   ]
  },
  {
   "cell_type": "code",
   "execution_count": 58,
   "id": "e0e79c17-b6ac-49c5-b61d-805ddf14d4be",
   "metadata": {},
   "outputs": [
    {
     "data": {
      "text/plain": [
       "0.220702357056847"
      ]
     },
     "execution_count": 58,
     "metadata": {},
     "output_type": "execute_result"
    }
   ],
   "source": [
    "#Calculate the probability of an employee earning between $50,000 and $70,000.\n",
    "prob_between_50000_70000 = (stats.norm.cdf((70000 - mean) / std_deviation)\n",
    "                            - stats.norm.cdf((50000 - mean) / std_deviation))\n",
    "prob_between_50000_70000"
   ]
  },
  {
   "cell_type": "code",
   "execution_count": 59,
   "id": "0543ece3-16bb-493a-9665-23c3c6353a97",
   "metadata": {},
   "outputs": [
    {
     "ename": "TypeError",
     "evalue": "'int' object is not callable",
     "output_type": "error",
     "traceback": [
      "\u001b[1;31m---------------------------------------------------------------------------\u001b[0m",
      "\u001b[1;31mTypeError\u001b[0m                                 Traceback (most recent call last)",
      "Cell \u001b[1;32mIn[59], line 1\u001b[0m\n\u001b[1;32m----> 1\u001b[0m sample_means \u001b[38;5;241m=\u001b[39m [np\u001b[38;5;241m.\u001b[39mmean(np\u001b[38;5;241m.\u001b[39mrandom\u001b[38;5;241m.\u001b[39mchoice(df[\u001b[38;5;124m'\u001b[39m\u001b[38;5;124mSalary\u001b[39m\u001b[38;5;124m'\u001b[39m], size\u001b[38;5;241m=\u001b[39m\u001b[38;5;241m5\u001b[39m, replace\u001b[38;5;241m=\u001b[39m\u001b[38;5;28;01mFalse\u001b[39;00m)) \u001b[38;5;28;01mfor\u001b[39;00m _ \u001b[38;5;129;01min\u001b[39;00m \u001b[38;5;28;43mrange\u001b[39;49m\u001b[43m(\u001b[49m\u001b[38;5;241;43m1000\u001b[39;49m\u001b[43m)\u001b[49m]\n\u001b[0;32m      2\u001b[0m \u001b[38;5;66;03m# Plot histogram of sample means\u001b[39;00m\n\u001b[0;32m      3\u001b[0m plt\u001b[38;5;241m.\u001b[39mhist(sample_means, bins\u001b[38;5;241m=\u001b[39m\u001b[38;5;241m30\u001b[39m, edgecolor\u001b[38;5;241m=\u001b[39m\u001b[38;5;124m'\u001b[39m\u001b[38;5;124mblack\u001b[39m\u001b[38;5;124m'\u001b[39m)\n",
      "\u001b[1;31mTypeError\u001b[0m: 'int' object is not callable"
     ]
    }
   ],
   "source": [
    "sample_means = [np.mean(np.random.choice(df['Salary'], size=5, replace=False)) for _ in range(1000)]\n",
    "# Plot histogram of sample means\n",
    "plt.hist(sample_means, bins=30, edgecolor='black')\n",
    "plt.xlabel('Sample Means')\n",
    "plt.ylabel('Frequency')\n",
    "plt.title('Distribution of Sample Means (Sample Size = 10)')\n",
    "plt.show()"
   ]
  },
  {
   "cell_type": "code",
   "execution_count": null,
   "id": "5769dc4a-90f0-443f-b087-d63b9eb83bef",
   "metadata": {},
   "outputs": [],
   "source": []
  }
 ],
 "metadata": {
  "kernelspec": {
   "display_name": "Python 3 (ipykernel)",
   "language": "python",
   "name": "python3"
  },
  "language_info": {
   "codemirror_mode": {
    "name": "ipython",
    "version": 3
   },
   "file_extension": ".py",
   "mimetype": "text/x-python",
   "name": "python",
   "nbconvert_exporter": "python",
   "pygments_lexer": "ipython3",
   "version": "3.12.2"
  }
 },
 "nbformat": 4,
 "nbformat_minor": 5
}
