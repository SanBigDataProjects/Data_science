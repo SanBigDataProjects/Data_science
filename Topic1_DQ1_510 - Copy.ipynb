{
 "cells": [
  {
   "cell_type": "code",
   "execution_count": 29,
   "id": "141490d5-4cf2-45bf-953d-ecc7ce97d754",
   "metadata": {},
   "outputs": [],
   "source": [
    "import numpy as np\n",
    "## This line imports the NumPy library, which provides functions for numerical computing in Python."
   ]
  },
  {
   "cell_type": "code",
   "execution_count": 58,
   "id": "ede561d6-c0a8-41f0-ba50-67aac7490f16",
   "metadata": {},
   "outputs": [
    {
     "name": "stdout",
     "output_type": "stream",
     "text": [
      "[ 6  1  4  4  8 10  4  6  3  5  8  7  9  9  2  7  8  8  9  2  6 10  9 10\n",
      "  5  4  1  4  6  1  3  4  9  2  4  4  4  8  1  2 10 10  1  5  8  4  3  8\n",
      "  3  1  1  5  6  6  7  9  5  2  5 10  9  2  2  8 10 10  4  7  8  3  1  4\n",
      "  6 10  5  5  7  5  5  4  5  5  9  5  4  8  6  6  1  2  6 10  4  1  6  1\n",
      "  2  3  5  3  1  4  3  1  8  6 10  1  3  8  3 10  3  4  4  3  4  5  2  3\n",
      " 10  2  5  7  9  3  4  1  1  7  1  7  4  4  9  9  9  3  4  3  1  9  9  4\n",
      "  9  3  9  5  4  1  5  4  7 10  9  1  9  6 10  1 10  7  6  4  2  9  1  5\n",
      " 10  7  6  8  9  9 10  3  9  7  7 10  2  7  9  9  4  3  4  7  4  7  6  8\n",
      "  1  9  5  7  6  9  3  4 10  8  6  4  5  6  4  4  8 10 10 10  8  4  3  4\n",
      " 10  8  8  6  2  3  3  9  2  6  9  5  1  3  6  6  1  9  2  2  1  4  9  9\n",
      "  5  5  1 10  4  8  4  3  2  2  3  2  5  3  6  6  6  3  6  8  8  7  2  7\n",
      "  8  3  4  2 10  6 10 10  3  1 10  2 10  1  7  1  5  9  5  4  4  9  9  8\n",
      "  1  4  9  8  8  2  9  5  8  1  5 10  1  7  5  3  5  7  4  4  8  9  6  1\n",
      "  9  6  5  8  5  2  4  4 10  3  6  3  4  6  8  3  8  2  7  6  1  1  4  2\n",
      " 10 10  7  7  8  9  9  8  1  9  7  9 10  9  4  7  2  8  5 10  3  1  9  3\n",
      "  8  9  5  5  2  8  7 10  5  2  6 10  8  2  4  6  8  4  7  7  8 10  2 10\n",
      "  7  1  4  9  5  2  5  6  1  4  2  5  5  5  1  1  9  5  7 10  4  4  3  2\n",
      "  3  2  4  5  2  2  1  8  9  5  4  6  7  4  3 10  9  2  5  1  9  4 10  6\n",
      "  6  2  8  9  7  5  8  4  6  4  7  5  8  4  1  6 10  4  8  6  6  9  1  9\n",
      "  4  7 10  4  3  8  1  4  1  4  7  2 10  3 10  5 10  2  4  3  5 10  8  5\n",
      " 10  5  2  3  8  3  4 10  8  7  7  3  4  7  1  9  1  8  7  6 10  7  6  3\n",
      "  8  2 10  3  3  6  7  5  3  3  2  1 10  1  3  9  4  1  9  9  2  1  6  9\n",
      "  3  4  6  4  9  7  5  7  4  7  3  7  6  6 10  5  7  6  2  4  4  9 10  6\n",
      "  6  7  1 10  8  6  2  6  7  7  9  8  6  4  3 10 10  4  3  6  5  2  6  9\n",
      "  4  6  9  5  2  8  9  2  3  2  2  8  6  1  5  2  2  7  7  1  3  4  8 10\n",
      "  3  5 10  1  7 10  3  5  8  4  1  6  5  1  3  4  2  8  2  4  5  2  8  5\n",
      "  1  3  8  5  1  3  7 10  3  5 10 10  6  5  5 10  9  2  6  8  1  2  4 10\n",
      "  3  9  3  5  9  3 10  9  8  9  3  4  4  7  1  4  7  4 10  7  4  3  3  3\n",
      "  7  5  7  1  5 10  3  2  7  2  8  6  7  2  7  7  7  7  3  6  3  3  4  3\n",
      " 10  4  9  6  5  6  2  6  9  3 10 10  6  7  5  1  9  6  6  6  2  1  1  1\n",
      "  1  1  8  7  4  6  5  4  5  6  2  4  7  8  5  1  1  8  4  4  1  1 10  5\n",
      "  5  6  9  9  1  2  6 10 10  7  2  5  1  5  8  8  8  7  3  7  1  3  8  8\n",
      "  3  7  2  4  8  1  6  5  6  6  4  9  1  2  6  5  2  6  1  7  9  9  7  4\n",
      "  5  5  4  7  6 10  9  2  4  9  2  6  9  1  4  8  2  8  9  1  8  6 10 10\n",
      "  7  9  8  6 10  2  1  1  6  7  4  7  2  8  8  1  8  7  1  5  3  8  6  3\n",
      "  9  6  7  7  5  2  6  5  6  6  7  4  9  2  5  3 10  8  5  2  9  3  4  4\n",
      "  5  2  7  3  6  5 10  2  6 10  5  6  8  5  5  3  3  2  4  1  2 10  2  7\n",
      " 10  9  7  4  1  8  4  3  6 10  8  4  5  8  7  8  4  7 10  4  8  2  4  8\n",
      "  9  9  5  6  4  7 10  7  3 10  4  6  8 10  1  8  2  3  6  1  6  9 10  9\n",
      "  3  6  4  2  8  4  9  6  6  2 10  8  3  2  1  2  1  2  2  7  9  9  4  3\n",
      "  1  8  5  7  1  6  4  4 10  5 10  1  7  6  4  1  1  2  3  1  3  3 10  7\n",
      "  8  9 10  9  3  5  8  8  6  8  3  5  2  2  2  8]\n"
     ]
    }
   ],
   "source": [
    "np.random.seed(0)\n",
    "#Setting the seed ensures that the random number generation process produces \n",
    "#the same sequence of random numbers each time you run the code, making the output reproducible.\n",
    "population_cholesterol = np.random.randint(1,11, size=1000)\n",
    "#his line generates an array of random integers representing cholesterol levels for 1000 individuals.\n",
    "#The cholesterol levels are randomly sampled from the integers between 1 and 10  using NumPy's random.randint() function.\n",
    "print(population_cholesterol)"
   ]
  },
  {
   "cell_type": "code",
   "execution_count": 59,
   "id": "557727ea-6288-4167-b061-1910d7250907",
   "metadata": {},
   "outputs": [
    {
     "name": "stdout",
     "output_type": "stream",
     "text": [
      "[ 2 10  7  9  7  6  9 10  5  1  8  5  9 10  1 10  2  1  6  2  2  9  4  2\n",
      "  8  7  4  8  6  1  2  1  5  4  4  1  3  1  7  6  4  4  2  8  2  7  8  8\n",
      "  5  2  2  4  9 10  7  9  7  9  5  8  5  5  1  1  2  6  5  4  8  6 10  1\n",
      "  6  8  4  3  7  4  6  6  8  9  6  9  4  9 10  3  2  6  4  9  4  2  4  3\n",
      "  5  4  3  5]\n"
     ]
    }
   ],
   "source": [
    "sample_size = 100\n",
    "sample_cholesterol = np.random.choice(population_cholesterol, size=sample_size, replace=False)\n",
    "print(sample_cholesterol)"
   ]
  },
  {
   "cell_type": "code",
   "execution_count": 32,
   "id": "6b47fd0e-06bf-4630-89b0-c8086be0ce36",
   "metadata": {},
   "outputs": [],
   "source": [
    "# Calculating population parameter (average cholesterol level)\n",
    "# Now, i calculate the population parameter, which represents the average cholesterol level\n",
    "# of all individuals within the generated population.\n",
    "population_mean_cholesterol = np.mean(population_cholesterol)\n"
   ]
  },
  {
   "cell_type": "code",
   "execution_count": 33,
   "id": "08733d02-67c3-4966-b9a5-535df8899a53",
   "metadata": {},
   "outputs": [],
   "source": [
    "# Calculating sample statistic (average cholesterol level)\n",
    "# Similarly, we calculate the sample statistic, which represents the average cholesterol level\n",
    "# of the randomly selected sample of patients.\n",
    "sample_mean_cholesterol = np.mean(sample_cholesterol)\n"
   ]
  },
  {
   "cell_type": "code",
   "execution_count": 60,
   "id": "410d32e2-31ac-4eb3-b6d4-99aff15c6f7f",
   "metadata": {},
   "outputs": [
    {
     "name": "stdout",
     "output_type": "stream",
     "text": [
      "Population Parameter (Average Cholesterol Level): 5.444\n",
      "Sample Statistic (Average Cholesterol Level): 5.32\n"
     ]
    }
   ],
   "source": [
    "# Displaying results\n",
    "# Finally, we print out the calculated population parameter and sample statistic\n",
    "# to see the average cholesterol levels.\n",
    "print(\"Population Parameter (Average Cholesterol Level):\", population_mean_cholesterol)\n",
    "print(\"Sample Statistic (Average Cholesterol Level):\", sample_mean_cholesterol)\n"
   ]
  },
  {
   "cell_type": "code",
   "execution_count": 36,
   "id": "7f07f3e1-e6fa-4d59-97aa-5e4d4d3a38e0",
   "metadata": {},
   "outputs": [
    {
     "data": {
      "image/png": "[encoded data removed]",
      "text/plain": [
       "<Figure size 1000x600 with 1 Axes>"
      ]
     },
     "metadata": {},
     "output_type": "display_data"
    }
   ],
   "source": [
    "plt.figure(figsize=(10, 6))\n",
    "\n",
    "# Population histogram\n",
    "plt.hist(population_cholesterol, bins=20, color='skyblue', alpha=0.7, label='Population')\n",
    "\n",
    "# Sample histogram\n",
    "plt.hist(sample_cholesterol, bins=20, color='salmon', alpha=0.7, label='Sample')\n",
    "\n",
    "# Adding labels and title\n",
    "plt.xlabel('Cholesterol Level')\n",
    "plt.ylabel('Frequency')\n",
    "plt.title('Distribution of Cholesterol Levels')\n",
    "plt.legend()\n",
    "\n",
    "# Showing plot\n",
    "plt.show()"
   ]
  },
  {
   "cell_type": "code",
   "execution_count": null,
   "id": "84b60ee1-9889-4c9d-a45c-4ca33050a3fd",
   "metadata": {},
   "outputs": [],
   "source": [
    "#"
   ]
  }
 ],
 "metadata": {
  "kernelspec": {
   "display_name": "Python 3 (ipykernel)",
   "language": "python",
   "name": "python3"
  },
  "language_info": {
   "codemirror_mode": {
    "name": "ipython",
    "version": 3
   },
   "file_extension": ".py",
   "mimetype": "text/x-python",
   "name": "python",
   "nbconvert_exporter": "python",
   "pygments_lexer": "ipython3",
   "version": "3.12.2"
  }
 },
 "nbformat": 4,
 "nbformat_minor": 5
}
