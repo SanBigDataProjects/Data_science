{
 "cells": [
  {
   "cell_type": "code",
   "execution_count": 2,
   "id": "1bea4c3e-7025-46e3-85ed-db570b6fb495",
   "metadata": {},
   "outputs": [
    {
     "data": {
      "image/png": "[encoded data removed]",
      "text/plain": [
       "<Figure size 640x480 with 1 Axes>"
      ]
     },
     "metadata": {},
     "output_type": "display_data"
    }
   ],
   "source": [
    "import matplotlib.pyplot as plt\n",
    "\n",
    "# Example data\n",
    "X = [1, 2, 3, 4, 5]\n",
    "Y = [2, 3, 5, 7, 11]\n",
    "\n",
    "plt.scatter(X, Y)\n",
    "plt.xlabel('X')\n",
    "plt.ylabel('Y')\n",
    "plt.title('Scatter plot of X vs Y')\n",
    "plt.show()\n"
   ]
  },
  {
   "cell_type": "code",
   "execution_count": 8,
   "id": "76e12615-b897-44ee-8031-70957d3c94ed",
   "metadata": {},
   "outputs": [
    {
     "name": "stdout",
     "output_type": "stream",
     "text": [
      "Intercept (beta_0): -1.0000000000000018\n",
      "Slope (beta_1): 2.2000000000000006\n"
     ]
    }
   ],
   "source": [
    "import numpy as np\n",
    "from sklearn.linear_model import LinearRegression\n",
    "\n",
    "# Example data\n",
    "X = np.array([1, 2, 3, 4, 5]).reshape(-1, 1)\n",
    "Y = np.array([2, 3, 5, 7, 11])\n",
    "\n",
    "# Create and fit the model\n",
    "model = LinearRegression()\n",
    "model.fit(X, Y)\n",
    "\n",
    "# Get the coefficients\n",
    "beta_0 = model.intercept_\n",
    "beta_1 = model.coef_[0]\n",
    "\n",
    "print(f\"Intercept (beta_0): {beta_0}\")\n",
    "print(f\"Slope (beta_1): {beta_1}\")\n"
   ]
  },
  {
   "cell_type": "code",
   "execution_count": 9,
   "id": "215250ec-7232-4143-a147-228c866590db",
   "metadata": {},
   "outputs": [
    {
     "name": "stdout",
     "output_type": "stream",
     "text": [
      "Predicted Y for X_new: [12.2 14.4 16.6]\n"
     ]
    }
   ],
   "source": [
    "# Predicting Y for new values of X\n",
    "X_new = np.array([6, 7, 8]).reshape(-1, 1)\n",
    "Y_pred = model.predict(X_new)\n",
    "\n",
    "print(f\"Predicted Y for X_new: {Y_pred}\")\n"
   ]
  },
  {
   "cell_type": "code",
   "execution_count": 10,
   "id": "9bc38caf-a019-4413-ad0c-497c1d2517f5",
   "metadata": {},
   "outputs": [
    {
     "name": "stdout",
     "output_type": "stream",
     "text": [
      "R-squared: 0.9453125\n"
     ]
    }
   ],
   "source": [
    "from sklearn.metrics import r2_score\n",
    "\n",
    "# Calculate R-squared\n",
    "Y_pred_train = model.predict(X)\n",
    "r2 = r2_score(Y, Y_pred_train)\n",
    "\n",
    "print(f\"R-squared: {r2}\")\n"
   ]
  },
  {
   "cell_type": "code",
   "execution_count": 11,
   "id": "cf28ad95-b51c-40a2-9efc-3776317ff37b",
   "metadata": {},
   "outputs": [
    {
     "name": "stdout",
     "output_type": "stream",
     "text": [
      "Original Data: [1 2 3 4 5]\n",
      "Normalized Data: [0.   0.25 0.5  0.75 1.  ]\n",
      "Data Range (from scaler): 4.0\n",
      "Data Min (from scaler): 1.0\n"
     ]
    }
   ],
   "source": [
    "from sklearn.preprocessing import MinMaxScaler\n",
    "\n",
    "# Example data\n",
    "X = np.array([[1], [2], [3], [4], [5]])\n",
    "\n",
    "# Create a MinMaxScaler object\n",
    "scaler = MinMaxScaler()\n",
    "\n",
    "# Fit the scaler to the data and transform the data\n",
    "X_norm = scaler.fit_transform(X)\n",
    "\n",
    "print(\"Original Data:\", X.flatten())\n",
    "print(\"Normalized Data:\", X_norm.flatten())\n",
    "print(\"Data Range (from scaler):\", scaler.data_range_[0])\n",
    "print(\"Data Min (from scaler):\", scaler.data_min_[0])\n"
   ]
  },
  {
   "cell_type": "code",
   "execution_count": 12,
   "id": "4b0eab41-84da-4fee-bda6-b483e7e2046d",
   "metadata": {},
   "outputs": [
    {
     "name": "stdout",
     "output_type": "stream",
     "text": [
      "Original Data: [1 2 3 4 5]\n",
      "Standardized Data: [-1.41421356 -0.70710678  0.          0.70710678  1.41421356]\n",
      "Mean (from scaler): 3.0\n",
      "Standard Deviation (from scaler): 1.4142135623730951\n"
     ]
    }
   ],
   "source": [
    "from sklearn.preprocessing import StandardScaler\n",
    "\n",
    "# Example data\n",
    "X = np.array([[1], [2], [3], [4], [5]])\n",
    "\n",
    "# Create a StandardScaler object\n",
    "scaler = StandardScaler()\n",
    "\n",
    "# Fit the scaler to the data and transform the data\n",
    "Z = scaler.fit_transform(X)\n",
    "\n",
    "print(\"Original Data:\", X.flatten())\n",
    "print(\"Standardized Data:\", Z.flatten())\n",
    "print(\"Mean (from scaler):\", scaler.mean_[0])\n",
    "print(\"Standard Deviation (from scaler):\", np.sqrt(scaler.var_[0]))\n"
   ]
  },
  {
   "cell_type": "code",
   "execution_count": null,
   "id": "1bee51a7-63bf-46ae-a3c6-b8b8e056bd08",
   "metadata": {},
   "outputs": [],
   "source": []
  }
 ],
 "metadata": {
  "kernelspec": {
   "display_name": "Python 3 (ipykernel)",
   "language": "python",
   "name": "python3"
  },
  "language_info": {
   "codemirror_mode": {
    "name": "ipython",
    "version": 3
   },
   "file_extension": ".py",
   "mimetype": "text/x-python",
   "name": "python",
   "nbconvert_exporter": "python",
   "pygments_lexer": "ipython3",
   "version": "3.12.2"
  }
 },
 "nbformat": 4,
 "nbformat_minor": 5
}
